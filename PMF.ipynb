{
 "cells": [
  {
   "cell_type": "code",
   "execution_count": 2,
   "metadata": {},
   "outputs": [
    {
     "data": {
      "text/plain": [
       "(torch.Size([610, 5]), torch.Size([9724, 5]))"
      ]
     },
     "execution_count": 2,
     "metadata": {},
     "output_type": "execute_result"
    }
   ],
   "source": [
    "import pandas as pd\n",
    "import torch\n",
    "\n",
    "ratings = pd.read_csv('/home/kyoshi_alova/Downloads/Dataset/Rating dataset/ratings.csv')\n",
    "rating_matrix = ratings.pivot(index='userId', columns='movieId', values='rating')\n",
    "n_users, n_movies = rating_matrix.shape\n",
    "\n",
    "latent_vectors = 5\n",
    "user_features = torch.randn(n_users, latent_vectors, requires_grad=True)\n",
    "user_features.data.mul_(0.01)\n",
    "movie_features = torch.randn(n_movies, latent_vectors, requires_grad=True)\n",
    "movie_features.data.mul_(0.01)\n",
    "\n",
    "user_features.shape, movie_features.shape"
   ]
  }
 ],
 "metadata": {
  "kernelspec": {
   "display_name": "pyml",
   "language": "python",
   "name": "python3"
  },
  "language_info": {
   "codemirror_mode": {
    "name": "ipython",
    "version": 3
   },
   "file_extension": ".py",
   "mimetype": "text/x-python",
   "name": "python",
   "nbconvert_exporter": "python",
   "pygments_lexer": "ipython3",
   "version": "3.10.10"
  },
  "orig_nbformat": 4
 },
 "nbformat": 4,
 "nbformat_minor": 2
}
